{
 "cells": [
  {
   "cell_type": "code",
   "execution_count": 1,
   "id": "a15736ca",
   "metadata": {},
   "outputs": [
    {
     "name": "stdout",
     "output_type": "stream",
     "text": [
      "Enter a number:2\n",
      "positive number\n"
     ]
    }
   ],
   "source": [
    "# Write a Python program to check if a number is positive, negative or zero?\n",
    "\n",
    "n=float(input(\"Enter a number:\"))\n",
    "\n",
    "if n< 0:\n",
    "    print(\"negative number\")\n",
    "elif n==0:\n",
    "    print(\"Zero\")\n",
    "else:\n",
    "    print(\"positive number\")"
   ]
  },
  {
   "cell_type": "code",
   "execution_count": 2,
   "id": "3cb64fc5",
   "metadata": {},
   "outputs": [
    {
     "name": "stdout",
     "output_type": "stream",
     "text": [
      "Enter a number: 9\n",
      "the factorial of 9 is 362880\n"
     ]
    }
   ],
   "source": [
    "# Write a Python program to get the Factorial number of given number ?\n",
    " \n",
    "num=int(input('Enter a number: '))\n",
    "factorial=1\n",
    "\n",
    "#If number is negative\n",
    "if num<0:\n",
    "    print(\"factorial does not exits for nagetive number\")\n",
    "\n",
    "    #If number is 0\n",
    "elif num==0:\n",
    "    print(\"the factorial of 0 is 1\")\n",
    "\n",
    "    #If number is positive\n",
    "else:\n",
    "    for i in range(1, num+1):\n",
    "        factorial=factorial*i\n",
    "    print(\"the factorial of\",num,\"is\",factorial)   "
   ]
  },
  {
   "cell_type": "code",
   "execution_count": 4,
   "id": "95f5843c",
   "metadata": {},
   "outputs": [
    {
     "name": "stdout",
     "output_type": "stream",
     "text": [
      "5\n",
      "2\n",
      "4\n",
      "6\n"
     ]
    }
   ],
   "source": [
    "# Write a Python program to get the Fibonacci series of given range ?\n",
    " \n",
    "x=int(input())\n",
    "y=0\n",
    "z=2\n",
    "for i in range(2,x):\n",
    "    h=y+z\n",
    "    y=z\n",
    "    z=h\n",
    "    print(h)"
   ]
  },
  {
   "cell_type": "code",
   "execution_count": 5,
   "id": "977b74cd",
   "metadata": {},
   "outputs": [
    {
     "name": "stdout",
     "output_type": "stream",
     "text": [
      "Enter 1 number: 26\n",
      "Enter 2 number: 12\n",
      "before swapping a = 26 b = 12\n",
      "after swapping a = 12 b = 26\n"
     ]
    }
   ],
   "source": [
    "# Write python program that swap two number with temp variable and without temp variable ?\n",
    "\n",
    "a = int(input('Enter 1 number: '))\n",
    "b = int(input('Enter 2 number: '))\n",
    "print(f'before swapping a = {a} b = {b}')\n",
    "temp = a\n",
    "a = b\n",
    "b = temp\n",
    "print(f'after swapping a = {a} b = {b}')"
   ]
  },
  {
   "cell_type": "code",
   "execution_count": 6,
   "id": "e26ed569",
   "metadata": {},
   "outputs": [
    {
     "name": "stdout",
     "output_type": "stream",
     "text": [
      "Enter a Number: 3\n",
      "This Number is Odd\n"
     ]
    }
   ],
   "source": [
    "# Write a Python program to find whether a given number is even or odd, print out an appropriate message to the user ?\n",
    "\n",
    "num=int(input(\"Enter a Number: \"))\n",
    "if (num%2)==0:\n",
    " print(\"This number is Even\")\n",
    "else:\n",
    " print(\"This Number is Odd\")"
   ]
  },
  {
   "cell_type": "code",
   "execution_count": 7,
   "id": "571882ad",
   "metadata": {},
   "outputs": [
    {
     "name": "stdout",
     "output_type": "stream",
     "text": [
      "Enter a letter: k\n",
      "k is not vowel\n"
     ]
    }
   ],
   "source": [
    "# Write a Python program to test whether a passed letter is a vowel or not ?\n",
    "\n",
    "r=input('Enter a letter: ')\n",
    "if r=='a' or r=='e'or r=='i' or r=='o' or r=='u':\n",
    "    print(f'{r} is vowel')\n",
    "else:\n",
    "    print(f'{r} is not vowel')"
   ]
  },
  {
   "cell_type": "code",
   "execution_count": 8,
   "id": "a58cb13f",
   "metadata": {},
   "outputs": [
    {
     "name": "stdout",
     "output_type": "stream",
     "text": [
      "Enter 1st number: 12\n",
      "Enter 2nd number: 36\n",
      "Enter 3rd number: 54\n",
      "102\n"
     ]
    }
   ],
   "source": [
    "# Write a Python program to sum of three given integers. However, if two values are equal sum will be zero ?\n",
    "\n",
    "a=int(input('Enter 1st number: '))\n",
    "b=int(input('Enter 2nd number: '))\n",
    "c=int(input('Enter 3rd number: '))\n",
    "if a==b or b==c or a==c:\n",
    "    print('sum=0')\n",
    "else:\n",
    "    sum=a+b+c\n",
    "    print(sum)"
   ]
  },
  {
   "cell_type": "code",
   "execution_count": 9,
   "id": "c04ba5ba",
   "metadata": {},
   "outputs": [
    {
     "name": "stdout",
     "output_type": "stream",
     "text": [
      "Enter 1st Value: 3\n",
      "Enter 2nd Value: 5\n",
      "False\n"
     ]
    }
   ],
   "source": [
    "# Write a Python program that will return true if the two given integer values are equal or their sum or difference is 5 ?\n",
    "\n",
    "a=int(input('Enter 1st Value: '))\n",
    "b=int(input('Enter 2nd Value: '))\n",
    "if a==b or (a+b)==5 or (a-b)==5 or (b-a)==5:\n",
    "    print(True)\n",
    "else:\n",
    "    print(False)"
   ]
  },
  {
   "cell_type": "code",
   "execution_count": 10,
   "id": "d70f5ebf",
   "metadata": {},
   "outputs": [
    {
     "name": "stdout",
     "output_type": "stream",
     "text": [
      "Enter something here: Hasu\n",
      "4\n"
     ]
    }
   ],
   "source": [
    "# Write a Python program to calculate the length of a string ?\n",
    "\n",
    "a=input('Enter something here: ')\n",
    "b=0\n",
    "for i in a:\n",
    "    b += 1\n",
    "else:\n",
    "    print(b)"
   ]
  },
  {
   "cell_type": "code",
   "execution_count": 11,
   "id": "2b0cb9a1",
   "metadata": {},
   "outputs": [
    {
     "name": "stdout",
     "output_type": "stream",
     "text": [
      "Enter a number: 5\n",
      "5 is positive int. 15.0\n"
     ]
    }
   ],
   "source": [
    "#  Write a python program to sum of the first n positive integers ?\n",
    " \n",
    "x=int(input('Enter a number: '))\n",
    "y=((x*(x+1))/2)\n",
    "print(f'{x} is positive int. {y}')  "
   ]
  },
  {
   "cell_type": "code",
   "execution_count": 12,
   "id": "3c710278",
   "metadata": {},
   "outputs": [
    {
     "name": "stdout",
     "output_type": "stream",
     "text": [
      "Enter a string: Hasmukh\n",
      "Character frequency:\n",
      "'H': 1\n",
      "'a': 1\n",
      "'s': 1\n",
      "'m': 1\n",
      "'u': 1\n",
      "'k': 1\n",
      "'h': 1\n"
     ]
    }
   ],
   "source": [
    "# Write a Python program to count the number of characters (character frequency) in a string ?\n",
    "\n",
    "def count_characters(string):\n",
    "    \n",
    "    char_frequency = {}\n",
    "\n",
    "    for char in string:\n",
    "        if char in char_frequency:\n",
    "            char_frequency[char] += 1\n",
    "        else:\n",
    "            char_frequency[char] = 1\n",
    "\n",
    "    return char_frequency\n",
    "\n",
    "input_string = input(\"Enter a string: \")\n",
    "\n",
    "frequency = count_characters(input_string)\n",
    "\n",
    "print(\"Character frequency:\")\n",
    "for char, freq in frequency.items():\n",
    "    print(f\"'{char}': {freq}\")"
   ]
  },
  {
   "cell_type": "code",
   "execution_count": 13,
   "id": "4c335273",
   "metadata": {},
   "outputs": [
    {
     "name": "stdout",
     "output_type": "stream",
     "text": [
      "25\n",
      "25\n"
     ]
    }
   ],
   "source": [
    "# Write a Python program to count occurrences of a substring in a string ?\n",
    "\n",
    "string = \"Hello to kese hai aap log\"\n",
    "count = 0\n",
    "for i in string:\n",
    "    count+=1\n",
    "print(count)\n",
    "#using length()\n",
    "print(len(string))"
   ]
  },
  {
   "cell_type": "code",
   "execution_count": 14,
   "id": "23f80588",
   "metadata": {},
   "outputs": [
    {
     "name": "stdout",
     "output_type": "stream",
     "text": [
      "Enter a string:- chaudhary\n",
      "{'c': 1, 'h': 2, 'a': 2, 'u': 1, 'd': 1, 'r': 1, 'y': 1}\n"
     ]
    }
   ],
   "source": [
    "# Write a Python program to count the occurrences of each word in a given sentence ?\n",
    "\n",
    "name=input(\"Enter a string:- \")\n",
    "space={}\n",
    "for y in name:\n",
    "    if y in space:\n",
    "        space[y]+=1\n",
    "    else:\n",
    "        space[y]=1\n",
    "print(space) "
   ]
  },
  {
   "cell_type": "code",
   "execution_count": 15,
   "id": "c13e13cd",
   "metadata": {},
   "outputs": [
    {
     "name": "stdout",
     "output_type": "stream",
     "text": [
      "1\n"
     ]
    }
   ],
   "source": [
    "# Write a Python program to count occurrences of a substring in a strin ?\n",
    "\n",
    "str1 = 'hello  my name is niraj.'\n",
    "print(str1.count(\"niraj\"))"
   ]
  },
  {
   "cell_type": "code",
   "execution_count": 17,
   "id": "4cd5276d",
   "metadata": {},
   "outputs": [
    {
     "name": "stdout",
     "output_type": "stream",
     "text": [
      "{'naresh': 1, 'is': 1, 'word.': 1}\n"
     ]
    }
   ],
   "source": [
    "# Write a Python program to count the occurrences of each word in a given sentence?\n",
    "\n",
    "def word_count(str):\n",
    "    counts = dict()\n",
    "    words = str.split()\n",
    "\n",
    "    for word in words:\n",
    "        if word in counts:\n",
    "            counts[word] += 1\n",
    "        else:\n",
    "            counts[word] = 1\n",
    "\n",
    "    return counts\n",
    "\n",
    "print( word_count('naresh is word.'))"
   ]
  },
  {
   "cell_type": "code",
   "execution_count": 18,
   "id": "4159c615",
   "metadata": {},
   "outputs": [
    {
     "name": "stdout",
     "output_type": "stream",
     "text": [
      "efo mng\n"
     ]
    }
   ],
   "source": [
    "# Write a Python program to get a single string from two given strings, separated by a space and swap the first two characters of each string ?\n",
    "\n",
    "def chars_mix_up(x, y):\n",
    "  a = y[:2] + x[2:]\n",
    "  b = x[:2] + y[2:]\n",
    "\n",
    "  return a + ' ' + b\n",
    "print(chars_mix_up('mno', 'efg'))"
   ]
  },
  {
   "cell_type": "code",
   "execution_count": 21,
   "id": "5c2fe265",
   "metadata": {},
   "outputs": [
    {
     "name": "stdout",
     "output_type": "stream",
     "text": [
      "enter a character:-work\n",
      "working\n"
     ]
    }
   ],
   "source": [
    "''' Write a Python program to add 'ing' at the end of a given string (length \n",
    "should be at least 3). If the given string already ends with 'ing' then add \n",
    "'ly' instead if the string length of the given string is less than 3, leave it \n",
    "unchanged.\n",
    "'''\n",
    "key1=str(input(\"enter a character:-\"))\n",
    "length=len(key1)\n",
    "if length>2:\n",
    "    if key1[-3:]=='ing':\n",
    "        key1 +='ly'\n",
    "    else:\n",
    "        key1 +=\"ing\"\n",
    "print(key1)"
   ]
  },
  {
   "cell_type": "code",
   "execution_count": 22,
   "id": "96953226",
   "metadata": {},
   "outputs": [
    {
     "name": "stdout",
     "output_type": "stream",
     "text": [
      "Enter a string:- work\n",
      "work\n"
     ]
    }
   ],
   "source": [
    "''' Write a Python program to find the first appearance of the substring \n",
    "'not' and 'poor' from a given string, if 'not' follows the 'poor', replace the \n",
    "whole 'not'...'poor' substring with 'good'. Return the resulting string.'''\n",
    "\n",
    "a= input(\"Enter a string:- \")\n",
    "c=a.find(\"not\")\n",
    "d=a.find(\"poor\")\n",
    "if (c>=0 and d>=0):\n",
    "  a=a.replace(a[c:d+4],\"good\")\n",
    "print(a)"
   ]
  },
  {
   "cell_type": "code",
   "execution_count": 23,
   "id": "45e53752",
   "metadata": {},
   "outputs": [
    {
     "name": "stdout",
     "output_type": "stream",
     "text": [
      "longest word = vardhman , length= 8\n"
     ]
    }
   ],
   "source": [
    "# Write a Python function that takes a list of words and returns the length of the longest one ?\n",
    "\n",
    "def long(words):\n",
    "    check=max(words,key=len)\n",
    "    print(\"longest word =\", check, \", length=\", len(check))\n",
    " # Driver Program\n",
    "a = [\"vardhman\", \"niraj\", \"raj\"]\n",
    "long(a)"
   ]
  },
  {
   "cell_type": "code",
   "execution_count": 24,
   "id": "1699b2f9",
   "metadata": {},
   "outputs": [
    {
     "name": "stdout",
     "output_type": "stream",
     "text": [
      "Enter the String :Harshit\n",
      "Harshit\n"
     ]
    }
   ],
   "source": [
    "# Write a Python function to reverses a string if its length is a multiple of 4 ?\n",
    "\n",
    "string=input(\"Enter the String :\")\n",
    "if len(string) % 4 == 0:\n",
    "   print(''.join(reversed(string)))\n",
    "else:\n",
    "   print(string)"
   ]
  },
  {
   "cell_type": "code",
   "execution_count": 25,
   "id": "95245781",
   "metadata": {},
   "outputs": [
    {
     "name": "stdout",
     "output_type": "stream",
     "text": [
      "\n",
      "naar\n",
      "nash\n"
     ]
    }
   ],
   "source": [
    "'''Write a Python program to get a string made of the first 2 and the last \n",
    "2 chars from a given a string. If the string length is less than 2, return \n",
    "instead of the empty string. '''\n",
    "\n",
    "def string_both_ends(str):\n",
    "  if len(str) < 2:\n",
    "    return ''\n",
    "\n",
    "  return str[0:2] + str[-2:]\n",
    "\n",
    "print(string_both_ends('n'))\n",
    "print(string_both_ends('nar'))\n",
    "print(string_both_ends('naresh'))"
   ]
  },
  {
   "cell_type": "code",
   "execution_count": 26,
   "id": "eb6bb52d",
   "metadata": {},
   "outputs": [
    {
     "name": "stdout",
     "output_type": "stream",
     "text": [
      "[{harshit}]\n"
     ]
    }
   ],
   "source": [
    "# Write a Python function to insert a string in the middle of a string ?\n",
    "\n",
    "def insert_string(str,word):\n",
    "    return str[:2] + word + str[2:]\n",
    "\n",
    "print(insert_string('[{}]', 'harshit'))"
   ]
  },
  {
   "cell_type": "code",
   "execution_count": null,
   "id": "307c6898",
   "metadata": {},
   "outputs": [],
   "source": []
  }
 ],
 "metadata": {
  "kernelspec": {
   "display_name": "Python 3 (ipykernel)",
   "language": "python",
   "name": "python3"
  },
  "language_info": {
   "codemirror_mode": {
    "name": "ipython",
    "version": 3
   },
   "file_extension": ".py",
   "mimetype": "text/x-python",
   "name": "python",
   "nbconvert_exporter": "python",
   "pygments_lexer": "ipython3",
   "version": "3.11.5"
  }
 },
 "nbformat": 4,
 "nbformat_minor": 5
}
